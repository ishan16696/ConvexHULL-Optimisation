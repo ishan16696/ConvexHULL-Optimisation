{
 "cells": [
  {
   "cell_type": "markdown",
   "metadata": {},
   "source": [
    "## Project :- Convex hull and various algorithms for obtaining the 2d convex hull\n"
   ]
  },
  {
   "cell_type": "markdown",
   "metadata": {},
   "source": [
    "### Project statement :\n",
    "\n",
    ">The objective of this project is to study at least three algorithms for obtaining a convex hull in the 2-d setting and compare the practical efficiency of the algorithms . Hence the project aims to explore different convex hull algorithms and the improvement over standard algorithms."
   ]
  },
  {
   "cell_type": "markdown",
   "metadata": {},
   "source": [
    "## Definitions : "
   ]
  },
  {
   "cell_type": "markdown",
   "metadata": {},
   "source": [
    "### Convexity :\n",
    "  1. A set S is convex if for any 2 points p,q $\\in$ S ,the line segment pq $ \\subset $ S.\n",
    "  2.  A set S is convex if it is the intersection of (possibly infinitely many) half-spaces.\n"
   ]
  },
  {
   "cell_type": "markdown",
   "metadata": {},
   "source": [
    "### Convex Polygon :\n",
    "A polygon  that has all interior angles less than 180° (Result: All the vertices point 'outwards', away from the center.)\n",
    "<img src = \"canvex.gif\">"
   ]
  },
  {
   "cell_type": "markdown",
   "metadata": {},
   "source": [
    "### Convex Hull :\n",
    ">The Convex Hull of a set is a closed \"solid\" region which includes all the points on its interior.<br>\n",
    "The Convex Hull of a set of points S is the intersection of all half-spaces that contain S. A half space in two dimensions is the set of points on or to one side of a line. This notion generalizes to higher dimensions. A half-space is the set of points on or to one side of a plane and so on.\n"
   ]
  },
  {
   "cell_type": "markdown",
   "metadata": {},
   "source": [
    "### Concepts involved :\n",
    "1. __Orientation__<br>\n",
    "Finding out whether the points p,q,r are making a left turn or a right turn is a simple calculation of a determinant.<br>\n",
    "$$ orient(p,q,r) = \\det\\begin{pmatrix}{1} && {p_x} &&{p_y} \\\\ {1} && {q_x}&&{q_y}\\\\{1}&&{r_x}&&{r_y}\\end{pmatrix} $$ \n",
    "<img src = \"orient.png\">\n"
   ]
  },
  {
   "cell_type": "markdown",
   "metadata": {},
   "source": [
    "##  Algorithms studied in this project:\n",
    "1. Gift Wrapping or Jarvis March\n",
    "2. Graham's Scan Algorithm\n",
    "3. Monotone Chain Algorithm and it's modification using pruning\n",
    "4. Quick Hull and its modification using pruning "
   ]
  },
  {
   "cell_type": "markdown",
   "metadata": {},
   "source": [
    "##  1. Gift Wrapping or Jarvis March Algorithm"
   ]
  },
  {
   "cell_type": "markdown",
   "metadata": {},
   "source": [
    "### Intution :\n",
    "The idea of Jarvis’s Algorithm is simple, we start from the leftmost point (or point with minimum x coordinate value) and we keep wrapping points in counterclockwise direction. given a point p as current point, next point is selected as the point that beats all other points at counterclockwise orientation.\n",
    "Pseudo code\n"
   ]
  },
  {
   "cell_type": "markdown",
   "metadata": {},
   "source": [
    "<img src=\"chull_jarvis.png\">"
   ]
  },
  {
   "cell_type": "markdown",
   "metadata": {},
   "source": [
    "### Pseudo code : "
   ]
  },
  {
   "cell_type": "markdown",
   "metadata": {},
   "source": [
    "1. Initialize p as leftmost point.<br>\n",
    "2. Do following while we don’t come back to the first (or leftmost) point.<br>\n",
    "    a) The next point q is the point such that the triplet (p, q, r) is counterclockwise for any other point r.<br>\n",
    "    b) next[p] = q (Store q as next of p in the output convex hull).<br>\n",
    "    c) p = q (Set p as q for next iteration)\n"
   ]
  },
  {
   "cell_type": "markdown",
   "metadata": {},
   "source": [
    "### Time Complexity analysis \n",
    "\n",
    ">__Notation__<br>\n",
    "N : no of points<br>\n",
    "M : total numbers of boundary points(hull points)<br>\n",
    "$ 𝑀<=𝑁 $\n",
    "\n",
    "__Time Complexity__ = $ \\Theta(𝑀∗𝑁)$ <br> \n",
    "__Worst case time complexity__ = $  O(𝑁^2) $  when 𝑀=𝑁\n",
    "\n",
    "\n"
   ]
  },
  {
   "cell_type": "markdown",
   "metadata": {},
   "source": [
    "## 2. Graham Scan Algorithm"
   ]
  },
  {
   "cell_type": "markdown",
   "metadata": {},
   "source": [
    "### Intution :\n",
    "Graham’s scan solves the convex-hull problem by maintaining a stack S of candidate points. It pushes each point of \n",
    "the input set Q onto the stack one time, and it eventually pops from the stack each point that is not a vertex of CH(Q). When the algorithm terminates, stack S contains exactly the vertices of CH(Q), in counterclockwise order of their appearance on the boundary."
   ]
  },
  {
   "cell_type": "markdown",
   "metadata": {},
   "source": [
    "<img src=\"chull_graham.gif\">"
   ]
  },
  {
   "cell_type": "markdown",
   "metadata": {},
   "source": [
    "###  Pseudo code :\n",
    "__GRAHAM-SCAN(Q)__\n",
    "1.  let $ p_0 $ be the point in $ Q $ with the minimum y-coordinate, or the leftmost such point in case of a tie\n",
    "2.  let  ( $p_1$ , $p_2$,......,$p_m$ )  be the remaining points in $Q$, sorted by polar angle in counterclockwise order around $p_0$ (if more than one point has the same angle, remove all but the one that is farthest from $p_0$ )\n",
    "3.  let $S$ be an empty stack\n",
    "4.  PUSH ( $p_0$ , $S$ )\n",
    "5.  PUSH ( $p_1$ , $S$ )\n",
    "6.  PUSH ( $p_2$, $S$ )\n",
    "7.  for i = 3 to m\n",
    "8.    &emsp; while the angle formed by points NEXT-TO-TOP ( $S$ ),TOP ( $S$  ), and $p_i$ makes a nonleft turn\n",
    "9.     &emsp; &emsp; POP( $S$ )\n",
    "10.      &emsp; PUSH ( $p_i $ , $S$ )\n",
    "11. return S"
   ]
  },
  {
   "cell_type": "markdown",
   "metadata": {},
   "source": [
    "### Time Complexity:\n",
    ">• **Phase 1**: takes time O(N logN)<br>\n",
    "   &emsp; • points are sorted by angle around the anchor<br>\n",
    "• **Phase 2**: takes time O(N)<br>\n",
    "&emsp;• each point is inserted into the sequence exactly once, and<br>\n",
    "&emsp;• each point is removed from the sequence at most once.<br>\n",
    "• <strong>Total time complexity</strong>: O(N log N)"
   ]
  },
  {
   "cell_type": "markdown",
   "metadata": {},
   "source": [
    "## 3. Monotone Chain Algorithm:\n"
   ]
  },
  {
   "cell_type": "markdown",
   "metadata": {},
   "source": [
    "### Intution:\n",
    "Sort and Traverse points lexicographically(instead of radially).<br>\n",
    "Sorting lexicographically is faster than sorting radially.<br>\n",
    "It calculate the Upper and lower hull and then merge them to find final hull.\n"
   ]
  },
  {
   "cell_type": "markdown",
   "metadata": {},
   "source": [
    "<tr>\n",
    "<td> <img src = \"chull_mono.png\" alt=\"Drawing\" style=\"width: 250px;\"/> </td>\n",
    "<td> <img src=\"chull_mono1.gif\" alt=\"Drawing\" style=\"width: 250px;\"/> </td>\n",
    "</tr>\n",
    "\n"
   ]
  },
  {
   "cell_type": "markdown",
   "metadata": {},
   "source": [
    "### Pseudo Code:\n",
    "**Input**: a list $P$ of points in the plane.<br>\n",
    "<< Precondition: There must be at least 3 points. >>\n",
    "\n",
    "1. Sort the points of $P$ by x-coordinate (in case of a tie, sort by y-coordinate).\n",
    "2. Initialize U and L as empty lists.\n",
    "   The lists will hold the vertices of upper and lower hulls respectively.\n",
    "3. for i = 1,2, ..., n:<br>\n",
    "      &emsp; while L contains at least two points and the sequence of last two points of L and the point P[i] does           not make a counter-clockwise turn:<br>\n",
    "      &emsp; &emsp; remove the last point from L<br>\n",
    "    append P[i] to L\n",
    "\n",
    "4. for i = n, n-1, ..., 1:<br>\n",
    "   &emsp; while U contains atleast two points and the sequence of last two points of U and the point P[i] does not       make a counter-clockwise turn:<br>\n",
    "      &emsp; &emsp; remove the last point from U<br>\n",
    "   append P[i] to U\n",
    "\n",
    "5. Remove the last point of each list (it's the same as the first point of the other list).\n",
    "6. Concatenate L and U to obtain the convex hull of P.\n",
    "7. Points in the result will be listed in counter-clockwise order."
   ]
  },
  {
   "cell_type": "markdown",
   "metadata": {},
   "source": [
    "### Time complexity analysis :\n",
    ">• **Phase 1**: takes time O(N logN)<br>\n",
    "   &emsp; • points are sorted by lexicographically<br>\n",
    "• **Phase 2**: takes time O(N)<br>.\n",
    "&emsp;• For calculating the upper hull<br>\n",
    "• **Phase 3**: takes time O(N)<br>.\n",
    "&emsp;• For calculating the Lower hull<br>\n",
    "• <strong>Total time complexity</strong>: O(N log N)\n"
   ]
  },
  {
   "cell_type": "markdown",
   "metadata": {},
   "source": [
    "### Improved MonoTone chain algorithm"
   ]
  },
  {
   "cell_type": "markdown",
   "metadata": {},
   "source": [
    "In this  approach, first sort the points set $S$={$P_0$,$P_1$,...,$P_{n-1}$} by increasing x and then y coordinate values,then we find the cornerSide(leftmost) or cornerSide(rightmost) points which lies  on same line. Then join the line as shown in fig.\n"
   ]
  },
  {
   "cell_type": "markdown",
   "metadata": {},
   "source": [
    "<img src=\"chull_mono2.gif\"/>"
   ]
  },
  {
   "cell_type": "markdown",
   "metadata": {},
   "source": [
    "### Idea\n",
    ">What we have to do is to eliminate those points which are inside boundry by ($ L_{min} $  or $ L_{max}$),so that we do not include them in further computation i.e we don't include them in calculating the upper hull or lower hull because we know they are always inside the hull.\n",
    "\n",
    "\n"
   ]
  },
  {
   "cell_type": "markdown",
   "metadata": {},
   "source": [
    "### Modification \n",
    "__for lowerhull.__<br>\n",
    "if (P[i] is above or on $L_{min}$)<br>\n",
    "  &emsp; &emsp; Ignore it and continue.\n",
    "\n",
    "__for upper hull.__<br>\n",
    "if (P[i] is below or on $L_{max}$)<br>\n",
    "   &emsp; &emsp;Ignore it and continue.\n",
    "\n",
    "Rest algo is same as the Monotone algorithm.\n"
   ]
  },
  {
   "cell_type": "markdown",
   "metadata": {},
   "source": [
    "## 3. Quick hull algorithm "
   ]
  },
  {
   "cell_type": "markdown",
   "metadata": {},
   "source": [
    "### Intution :\n",
    "The intuition is that in many applications most of the points lie in\n",
    "the interior of the hull. For example, if the points are uniformly\n",
    "distributed in a unit square, then it can be shown that the expected\n",
    "number of points on the convex hull is O(log n).  The idea behind\n",
    "QuickHull is to discard points that are not on the hull as quickly as\n",
    "possible. "
   ]
  },
  {
   "cell_type": "markdown",
   "metadata": {},
   "source": [
    "<img src = \"chull_quick.gif\">"
   ]
  },
  {
   "cell_type": "markdown",
   "metadata": {},
   "source": [
    "The basic QuickHull algorithm starts by identifying the leftmost and rightmost points, which we\n",
    "will call a and z. We then find the convex hulls of the points on either side of the line az , using the\n",
    "following recursive subroutine."
   ]
  },
  {
   "cell_type": "markdown",
   "metadata": {},
   "source": [
    "__QUICKHULL(P, a, z):__<br>\n",
    "〈〈Precondition: Every point in P lies to the left of az 〉〉<br>\n",
    "if P = ∅<br>\n",
    "next[z] ← a; pred[a] ← z<br>\n",
    "else<br>\n",
    "p ← point in P furthest to the left of az<br>\n",
    "L ← all points in P to the left of ap<br>\n",
    "R ← all points in P to the left of pz<br>\n",
    "QUICKHULL(L, a, p)<br>\n",
    "QUICKHULL(R, p, z)<br>"
   ]
  },
  {
   "cell_type": "markdown",
   "metadata": {},
   "source": [
    "Except for the recursive calls, QUICKHULL clearly runs in O(n) time. The point r is guaranteed to be a\n",
    "convex hull vertex. Thus, each call to QUICKHULL discovers either a vertex or an edge of the convex hull,\n",
    "so the overall running time is O(nh),"
   ]
  },
  {
   "cell_type": "markdown",
   "metadata": {},
   "source": [
    "###  Applying pruning to quick hull \n",
    "Unfortunately, the O(nh) running time analysis is tight in the worst case; because the splitting is\n",
    "performed deterministically, an adversarial input can force unbalanced splits, just like quicksort. To\n",
    "avoid these problems, we can modify algorithm using prune and search paradigm."
   ]
  },
  {
   "cell_type": "markdown",
   "metadata": {},
   "source": [
    ">__Approach for pruning__<br>\n",
    "We start by arbitrarily pairing up the points in P. Let q,r be the pair whose connecting line has\n",
    "median slope among all n/2 pairs; we can find this pair in O(n) time, even without sorting slopes. We\n",
    "now choose the pivot point p to be the point in P furthest above the line qr , rather than the point\n",
    "furthest above the baseline az.<br>\n",
    "__*Next we prune the set P as follows*__: For each pair s, t of points in P, we discard any point in the\n",
    "subset {a, z, p,s, t} that is inside the convex hull of those five points. This pruning step automatically\n",
    "discards any points inside the triangle apz."
   ]
  },
  {
   "cell_type": "markdown",
   "metadata": {},
   "source": [
    "__PRUNEDQUICKHULL(P, a, z):__<br>\n",
    "〈〈Precondition: az points directly to the right〉〉<br>\n",
    "〈〈Precondition: Every point in P is above az 〉〉<br>\n",
    "if |P| < 5<br>\n",
    "use brute force<br>\n",
    "else<br>\n",
    "Arbitrarily pair up the points in P<br>\n",
    "q,r ← pair with median slope among all pairs<br>\n",
    "p ← point in P furthest above qr<br>\n",
    "for each pair s, t<br>\n",
    "Discard any interior point from {a, z, p,s, t}<br>\n",
    "L ← all points in P above ap <br>\n",
    "R ← all points in P above pz <br>\n",
    "PRUNEDQUICKHULL(L, a, p) <br>\n",
    "PRUNEDQUICKHULL(R, p, z) <br>"
   ]
  },
  {
   "cell_type": "markdown",
   "metadata": {},
   "source": [
    "### Analysis:\n",
    "Now in the first recursive call, the subset L contains at most 3n/4 points. Consider a\n",
    "pair s, t from our arbitrary pairing of P. If both of these points are in L, they must satisfy two conditions:<br>\n",
    "1. they both lie to the left of ap.\n",
    "2. the slope of s t is larger than the slope of qr.<br> \n",
    "By definition, less than half the pairs have slope larger than the median slope. Thus, in at least n/4 pairs, at least one point is not in L. Symmetrically, the subset R also contains at most 3n/4 points."
   ]
  },
  {
   "cell_type": "markdown",
   "metadata": {},
   "source": [
    "The running time is described by the two-variable recurrence <br>\n",
    "$$T(n, h) = O(n) + T(n_1, h_1) + T(n_2, h − h_1)$$"
   ]
  },
  {
   "cell_type": "markdown",
   "metadata": {},
   "source": [
    "where $n_1 + n_2 ≤ n$ and max {$ n_1, n_2$} ≤ $\\dfrac {3n}{4}$. Let’s assume that the O(n) term is at most *αn* for some\n",
    "constant α. The following inductive proof implies that T(n, h) ≤ βn lnh for some constant β."
   ]
  },
  {
   "cell_type": "markdown",
   "metadata": {},
   "source": [
    "T(n, h) ≤ αn + T(n1, h1) + T(n2, h − h1)<br><br>\n",
    "≤ αn + $ βn_1\\ln h_1 $ + $βn_2 \\ln (h − h_1) $ &emsp; &emsp; &emsp;[inductive hypothesis]<br><br>\n",
    "≤ αn +$ βn_1 \\ln h_1 + β(n − n_1)\\ln (h − h_1) $ &emsp; &emsp; &emsp;[$n_1 + n_2$ ≤ n]<br><br>\n",
    "≤ $αn + β  \\dfrac {3n}{4} \\ln h_1 + β \\dfrac {n}{4} \\ln (h − h_1)$ &emsp; &emsp; &emsp; [$n_1$ ≤ 3n/4]<br><br>\n",
    "≤ $αn + β \\dfrac {n}{4}(3\\ln h1 + \\ln (h − h1))$  &emsp; &emsp; &emsp;[algebra]<br><br>\n",
    "≤$ αn + β \\dfrac {n}{4}(max(3 \\ln x + \\ln (h − x)))$  &emsp; &emsp; &emsp;[algebra]<br><br>\n",
    "The function $3 \\ln x + \\ln (h − x)$ is maximized when its derivative is zero:<br>\n",
    "$\\dfrac {d}{d x} (3 \\ln x + \\ln (h − x)) = \\dfrac {3}{x}−\\dfrac {1}{h − x} = 0 ⇒ x =\\dfrac {3h}{4} $<br><br>\n",
    "T(n, h) ≤ αn + $β\\dfrac {n}{4} (3\\ln \\dfrac {3h}{4}+ \\ln \\dfrac {h}{4}) $<br><br>\n",
    "≤ $αn + βn \\ln h + βn( \\dfrac {3}{4}\\ln \\dfrac {3}{4}+ \\dfrac{1}{4}\\ln \\dfrac{1}{4})$<br><br>\n",
    "≤ $βn\\ln h + (α − 0.562336β)n.$<br><br>\n",
    "If we assume β ≥ 2α, the induction proof is complete.\n",
    "\n"
   ]
  },
  {
   "cell_type": "markdown",
   "metadata": {},
   "source": [
    "##  Efficiency comparison :\n",
    "Testing on various input of different sizes , following observations are made in terms of relative time consumptions by the algorithms.\n",
    "<img src = \"analysis.png\"><br>\n",
    "*Note all the algorithms implemented and their individual analysis is available in separate notebook provided*"
   ]
  }
 ],
 "metadata": {
  "anaconda-cloud": {},
  "kernelspec": {
   "display_name": "Python [default]",
   "language": "python",
   "name": "python2"
  },
  "language_info": {
   "codemirror_mode": {
    "name": "ipython",
    "version": 2
   },
   "file_extension": ".py",
   "mimetype": "text/x-python",
   "name": "python",
   "nbconvert_exporter": "python",
   "pygments_lexer": "ipython2",
   "version": "2.7.12"
  }
 },
 "nbformat": 4,
 "nbformat_minor": 1
}
