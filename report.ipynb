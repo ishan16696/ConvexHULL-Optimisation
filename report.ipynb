{
 "cells": [
  {
   "cell_type": "markdown",
   "metadata": {},
   "source": [
    " <center><h2>APS course project report </h2></center> \n",
    " <center><h2>Convex hull and various algorithms for obtaining the 2d convex hull</h2><center>\n"
   ]
  },
  {
   "cell_type": "markdown",
   "metadata": {},
   "source": [
    "Submitted to:\n",
    "- __Dr. Venkatesh Choppella__ &emsp; &emsp; &emsp; &emsp;&emsp; &emsp; &emsp; &emsp;&emsp; \n",
    "&emsp;  __Dr.Vikram Pudi__\n"
   ]
  },
  {
   "cell_type": "markdown",
   "metadata": {},
   "source": [
    "Submitted by:\n",
    "- __Ishan Tyagi (2018201017)__ &emsp; &emsp; &emsp; &emsp;&emsp; &emsp; __Archit Kumar (2018201051)__\n"
   ]
  },
  {
   "cell_type": "markdown",
   "metadata": {},
   "source": [
    "Mentor : __Harshit Sharma__ <br>\n",
    "Team name : __audacious_thinker__"
   ]
  },
  {
   "cell_type": "markdown",
   "metadata": {},
   "source": [
    "### Project statement :\n",
    "\n",
    ">The objective of this project is to study at least three algorithms for obtaining a convex hull in the 2-d setting and compare the practical efficiency of the algorithms . Hence the project aims to explore different convex hull algorithms and the improvement over standard algorithms."
   ]
  },
  {
   "cell_type": "markdown",
   "metadata": {},
   "source": [
    "## Definitions : "
   ]
  },
  {
   "cell_type": "markdown",
   "metadata": {},
   "source": [
    "### Convexity :\n",
    "  1. A set S is convex if for any 2 points p,q $\\in$ S ,the line segment pq $ \\subset $ S.\n",
    "  2.  A set S is convex if it is the intersection of (possibly infinitely many) half-spaces (A half-space is the set of points on or to one side of a plane and so on).\n"
   ]
  },
  {
   "cell_type": "markdown",
   "metadata": {},
   "source": [
    "\n",
    "\n",
    "### Convex Polygon :\n",
    "A polygon  that has all interior angles less than 180° (Result: All the vertices point 'outwards', away from the center.)\n",
    "<a href=\"https://imgur.com/02hs8Zl\"><img src=\"https://i.imgur.com/02hs8Zl.gif\" title=\"source: imgur.com\" /></a>"
   ]
  },
  {
   "cell_type": "markdown",
   "metadata": {},
   "source": [
    "### Convex Hull :\n",
    "***The Convex Hull of a set is a closed \"solid\" region which includes all the points on its interior.***<br>\n"
   ]
  },
  {
   "cell_type": "markdown",
   "metadata": {},
   "source": [
    "Suppose we are given a set P of n points in the plane, and we want to compute something called the\n",
    "convex hull of P. Intuitively, the convex hull is what you get by driving a nail into the plane at each point\n",
    "and then wrapping a piece of string around the nails. More formally, the convex hull is the smallest\n",
    "convex polygon containing the points:<br>\n",
    "- __polygon:__ A region of the plane bounded by a cycle of line segments, called edges, joined end-to-end\n",
    "in a cycle. Points where two successive edges meet are called vertices.<br>\n",
    "- __convex:__ For any two points p and q inside the polygon, the entire line segment pq lies inside the\n",
    "polygon.<br>\n",
    "- __smallest:__ Any convex proper subset of the convex hull excludes at least one point in P. This\n",
    "implies that every vertex of the convex hull is a point in P.<br>\n",
    "We can also define the convex hull as the largest convex polygon whose vertices are all points in P, or\n",
    "the unique convex polygon that contains P and whose vertices are all points in P. Notice that P might\n",
    "have interior points that are not vertices of the convex hull.\n",
    "<a href=\"https://imgur.com/9H3db4C\"><img src=\"https://i.imgur.com/9H3db4C.jpg\" title=\"source: imgur.com\" /></a>"
   ]
  },
  {
   "cell_type": "markdown",
   "metadata": {},
   "source": [
    "### Concepts involved :\n",
    "1. __Orientation__<br>\n",
    "Finding out whether the points p,q,r are making a left turn or a right turn is a simple calculation of a determinant.<br>\n",
    "$$ orient(p,q,r) = \\det\\begin{pmatrix}{1} && {p_x} &&{p_y} \\\\ {1} && {q_x}&&{q_y}\\\\{1}&&{r_x}&&{r_y}\\end{pmatrix} $$ \n",
    "<a href=\"https://imgur.com/J9nC7YH\"><img src=\"https://i.imgur.com/J9nC7YH.png\" title=\"source: imgur.com\" /></a>"
   ]
  },
  {
   "cell_type": "markdown",
   "metadata": {},
   "source": [
    "##  Algorithms studied in this project:\n",
    "1. Gift Wrapping or Jarvis March\n",
    "2. Graham's Scan Algorithm\n",
    "3. Monotone Chain Algorithm and it's modification using pruning\n",
    "4. Quick Hull and its modification using pruning "
   ]
  },
  {
   "cell_type": "markdown",
   "metadata": {},
   "source": [
    "##  1. Gift Wrapping or Jarvis March Algorithm"
   ]
  },
  {
   "cell_type": "markdown",
   "metadata": {},
   "source": [
    "### Intution :\n",
    "The idea of Jarvis’s Algorithm is simple, we start from the leftmost point (or point with minimum x coordinate value) and we keep wrapping points in counterclockwise direction. given a point p as current point, next point is selected as the point that beats all other points at counterclockwise orientation.\n",
    "Pseudo code\n"
   ]
  },
  {
   "cell_type": "markdown",
   "metadata": {},
   "source": [
    "<a href=\"https://imgur.com/nWfAYQp\"><img src=\"https://i.imgur.com/nWfAYQp.png\" title=\"source: imgur.com\" /></a>"
   ]
  },
  {
   "cell_type": "markdown",
   "metadata": {},
   "source": [
    "### Pseudo code : "
   ]
  },
  {
   "cell_type": "markdown",
   "metadata": {},
   "source": [
    ">1. Initialize p as leftmost point.<br>\n",
    "2. Do following while we don’t come back to the first (or leftmost) point.<br>\n",
    "    a) The next point q is the point such that the triplet (p, q, r) is counterclockwise for any other point r.<br>\n",
    "    b) next[p] = q (Store q as next of p in the output convex hull).<br>\n",
    "    c) p = q (Set p as q for next iteration)\n"
   ]
  },
  {
   "cell_type": "markdown",
   "metadata": {},
   "source": [
    "### Time Complexity analysis \n",
    "__Notation__<br>\n",
    "N : no of points<br>\n",
    "M : total numbers of boundary points(hull points)<br>\n",
    "$ 𝑀<=𝑁 $\n",
    "\n",
    "__Time Complexity__ = $ \\Theta(𝑀∗𝑁)$ <br> \n",
    "__Worst case time complexity__ = $  O(𝑁^2) $  when 𝑀=𝑁\n",
    "\n",
    "\n"
   ]
  },
  {
   "cell_type": "markdown",
   "metadata": {},
   "source": [
    "## 2. Graham Scan Algorithm"
   ]
  },
  {
   "cell_type": "markdown",
   "metadata": {},
   "source": [
    "### Intution :\n",
    "Graham’s scan solves the convex-hull problem by maintaining a stack S of candidate points. It pushes each point of \n",
    "the input set Q onto the stack one time, and it eventually pops from the stack each point that is not a vertex of CH(Q). When the algorithm terminates, stack S contains exactly the vertices of CH(Q), in counterclockwise order of their appearance on the boundary."
   ]
  },
  {
   "cell_type": "markdown",
   "metadata": {},
   "source": [
    "<a href=\"https://imgur.com/pL70cmD\"><img src=\"https://i.imgur.com/pL70cmD.gif\" title=\"source: imgur.com\" /></a>"
   ]
  },
  {
   "cell_type": "markdown",
   "metadata": {},
   "source": [
    "###  Pseudo code :\n",
    "__GRAHAM-SCAN(Q)__\n",
    ">1.  let $ p_0 $ be the point in $ Q $ with the minimum y-coordinate, or the leftmost such point in case of a tie\n",
    "2.  let  ( $p_1$ , $p_2$,......,$p_m$ )  be the remaining points in $Q$, sorted by polar angle in counterclockwise order around $p_0$ (if more than one point has the same angle, remove all but the one that is farthest from $p_0$ )\n",
    "3.  let $S$ be an empty stack\n",
    "4.  PUSH ( $p_0$ , $S$ )\n",
    "5.  PUSH ( $p_1$ , $S$ )\n",
    "6.  PUSH ( $p_2$, $S$ )\n",
    "7.  for i = 3 to m\n",
    "8.    &emsp; while the angle formed by points NEXT-TO-TOP ( $S$ ),TOP ( $S$  ), and $p_i$ makes a nonleft turn\n",
    "9.     &emsp; &emsp; POP( $S$ )\n",
    "10.      &emsp; PUSH ( $p_i $ , $S$ )\n",
    "11. return S"
   ]
  },
  {
   "cell_type": "markdown",
   "metadata": {},
   "source": [
    "### Time Complexity:\n",
    "• **Phase 1**: takes time O(N logN)<br>\n",
    "   &emsp; • points are sorted by angle around the anchor<br>\n",
    "• **Phase 2**: takes time O(N)<br>\n",
    "&emsp;• each point is inserted into the sequence exactly once, and<br>\n",
    "&emsp;• each point is removed from the sequence at most once.<br>\n",
    "• <strong>Total time complexity</strong>: O(N log N)"
   ]
  },
  {
   "cell_type": "markdown",
   "metadata": {},
   "source": [
    "## 3. Monotone Chain Algorithm:\n"
   ]
  },
  {
   "cell_type": "markdown",
   "metadata": {},
   "source": [
    "### Intution:\n",
    "Sort and Traverse points lexicographically(instead of radially).<br>\n",
    "Sorting lexicographically is faster than sorting radially.<br>\n",
    "It calculate the Upper and lower hull and then merge them to find final hull.\n"
   ]
  },
  {
   "cell_type": "markdown",
   "metadata": {},
   "source": [
    "\n",
    "<tr>\n",
    "<td><a href=\"https://imgur.com/d8yGPkA\"><img src=\"https://i.imgur.com/d8yGPkA.png\" title=\"source: imgur.com\" /></a></td>\n",
    "<td><a href=\"https://imgur.com/fRkdMXP\"><img src=\"https://i.imgur.com/fRkdMXP.gif\" title=\"source: imgur.com\" /></a></td></tr>"
   ]
  },
  {
   "cell_type": "markdown",
   "metadata": {},
   "source": [
    "### Pseudo Code:\n",
    ">**Input**: a list $P$ of points in the plane.<br>\n",
    "<< Precondition: There must be at least 3 points. >>\n",
    "\n",
    ">1. Sort the points of $P$ by x-coordinate (in case of a tie, sort by y-coordinate).\n",
    "2. Initialize U and L as empty lists.\n",
    "   The lists will hold the vertices of upper and lower hulls respectively.\n",
    "3. for i = 1,2, ..., n:<br>\n",
    "      &emsp; while L contains at least two points and the sequence of last two points of L and the point P[i] does           not make a counter-clockwise turn:<br>\n",
    "      &emsp; &emsp; remove the last point from L<br>\n",
    "    append P[i] to L\n",
    "\n",
    ">4. for i = n, n-1, ..., 1:<br>\n",
    "   &emsp; while U contains atleast two points and the sequence of last two points of U and the point P[i] does not       make a counter-clockwise turn:<br>\n",
    "      &emsp; &emsp; remove the last point from U<br>\n",
    "   append P[i] to U\n",
    "\n",
    ">5. Remove the last point of each list (it's the same as the first point of the other list).\n",
    "6. Concatenate L and U to obtain the convex hull of P.\n",
    "7. Points in the result will be listed in counter-clockwise order."
   ]
  },
  {
   "cell_type": "markdown",
   "metadata": {},
   "source": [
    "### Time complexity analysis :\n",
    "• **Phase 1**: takes time O(N logN)<br>\n",
    "   &emsp; • points are sorted by lexicographically<br>\n",
    "• **Phase 2**: takes time O(N)<br>.\n",
    "&emsp;• For calculating the upper hull<br>\n",
    "• **Phase 3**: takes time O(N)<br>.\n",
    "&emsp;• For calculating the Lower hull<br>\n",
    "• <strong>Total time complexity</strong>: O(N log N)\n"
   ]
  },
  {
   "cell_type": "markdown",
   "metadata": {},
   "source": [
    "### Improved MonoTone chain algorithm"
   ]
  },
  {
   "cell_type": "markdown",
   "metadata": {},
   "source": [
    "In this  approach, first sort the points set $S$={$P_0$,$P_1$,...,$P_{n-1}$} by increasing x and then y coordinate values,then we find the cornerSide(leftmost) or cornerSide(rightmost) points which lies  on same line. Then join the line as shown in fig.\n"
   ]
  },
  {
   "cell_type": "markdown",
   "metadata": {},
   "source": [
    "<a href=\"https://imgur.com/2MvmteG\"><img src=\"https://i.imgur.com/2MvmteG.gif\" title=\"source: imgur.com\" /></a>"
   ]
  },
  {
   "cell_type": "markdown",
   "metadata": {},
   "source": [
    "### Idea\n",
    "What we have to do is to eliminate those points which are inside boundry by ($ L_{min} $  or $ L_{max}$),so that we do not include them in further computation i.e we don't include them in calculating the upper hull or lower hull because we know they are always inside the hull.\n",
    "\n",
    "\n"
   ]
  },
  {
   "cell_type": "markdown",
   "metadata": {},
   "source": [
    "### Modification \n",
    ">__for lowerhull.__<br>\n",
    "if (P[i] is above or on $L_{min}$)<br>\n",
    "  &emsp; &emsp; Ignore it and continue.\n",
    "\n",
    ">__for upper hull.__<br>\n",
    "if (P[i] is below or on $L_{max}$)<br>\n",
    "   &emsp; &emsp;Ignore it and continue.\n",
    "\n",
    "Rest algo is same as the Monotone algorithm.\n"
   ]
  },
  {
   "cell_type": "markdown",
   "metadata": {},
   "source": [
    "## 3.Modified Quick hull algorithm "
   ]
  },
  {
   "cell_type": "markdown",
   "metadata": {},
   "source": [
    "### Intution :\n",
    "The intuition is that in many applications most of the points lie in\n",
    "the interior of the hull. For example, if the points are uniformly\n",
    "distributed in a unit square, then it can be shown that the expected\n",
    "number of points on the convex hull is O(log n).  The idea behind\n",
    "QuickHull is to discard points that are not on the hull as quickly as\n",
    "possible. "
   ]
  },
  {
   "cell_type": "markdown",
   "metadata": {},
   "source": [
    "<a href=\"https://imgur.com/HfxNv2n\"><img src=\"https://i.imgur.com/HfxNv2n.gif\" title=\"source: imgur.com\" /></a>"
   ]
  },
  {
   "cell_type": "markdown",
   "metadata": {},
   "source": [
    "The basic QuickHull algorithm starts by identifying the leftmost and rightmost points, which we\n",
    "will call a and z. We then find the convex hulls of the points on either side of the line az , using the\n",
    "following recursive subroutine."
   ]
  },
  {
   "cell_type": "markdown",
   "metadata": {},
   "source": [
    "__QUICKHULL(P, a, z):__<br>\n",
    ">〈〈Precondition: Every point in P lies to the left of az 〉〉<br>\n",
    "if P = ∅<br>\n",
    "next[z] ← a; pred[a] ← z<br>\n",
    "else<br>\n",
    "p ← point in P furthest to the left of az<br>\n",
    "L ← all points in P to the left of ap<br>\n",
    "R ← all points in P to the left of pz<br>\n",
    "QUICKHULL(L, a, p)<br>\n",
    "QUICKHULL(R, p, z)<br>"
   ]
  },
  {
   "cell_type": "markdown",
   "metadata": {},
   "source": [
    "Except for the recursive calls, QUICKHULL clearly runs in O(n) time. The point r is guaranteed to be a\n",
    "convex hull vertex. Thus, each call to QUICKHULL discovers either a vertex or an edge of the convex hull,\n",
    "so the overall running time is O(nh),"
   ]
  },
  {
   "cell_type": "markdown",
   "metadata": {},
   "source": [
    "###  Applying pruning to quick hull \n",
    "Unfortunately, the O(nh) running time analysis is tight in the worst case; because the splitting is\n",
    "performed deterministically, an adversarial input can force unbalanced splits, just like quicksort. To\n",
    "avoid these problems, we can modify algorithm using prune and search paradigm."
   ]
  },
  {
   "cell_type": "markdown",
   "metadata": {},
   "source": [
    "__Approach for pruning__<br>\n",
    "We start by arbitrarily pairing up the points in P. Let q,r be the pair whose connecting line has\n",
    "median slope among all n/2 pairs; we can find this pair in O(n) time, even without sorting slopes. We\n",
    "now choose the pivot point p to be the point in P furthest above the line qr , rather than the point\n",
    "furthest above the baseline az.<br>\n",
    "__*Next we prune the set P as follows*__: For each pair s, t of points in P, we discard any point in the\n",
    "subset {a, z, p,s, t} that is inside the convex hull of those five points. This pruning step automatically\n",
    "discards any points inside the triangle apz."
   ]
  },
  {
   "cell_type": "markdown",
   "metadata": {},
   "source": [
    ">__PRUNEDQUICKHULL(P, a, z):__<br>\n",
    "〈〈Precondition: az points directly to the right〉〉<br>\n",
    "〈〈Precondition: Every point in P is above az 〉〉<br>\n",
    "if |P| < 5<br>\n",
    "use brute force<br>\n",
    "else<br>\n",
    "Arbitrarily pair up the points in P<br>\n",
    "q,r ← pair with median slope among all pairs<br>\n",
    "p ← point in P furthest above qr<br>\n",
    "for each pair s, t<br>\n",
    "Discard any interior point from {a, z, p,s, t}<br>\n",
    "L ← all points in P above ap <br>\n",
    "R ← all points in P above pz <br>\n",
    "PRUNEDQUICKHULL(L, a, p) <br>\n",
    "PRUNEDQUICKHULL(R, p, z) <br>"
   ]
  },
  {
   "cell_type": "markdown",
   "metadata": {},
   "source": [
    "### Analysis:\n",
    "Now in the first recursive call, the subset L contains at most 3n/4 points. Consider a\n",
    "pair s, t from our arbitrary pairing of P. If both of these points are in L, they must satisfy two conditions:<br>\n",
    "1. they both lie to the left of ap.\n",
    "2. the slope of s t is larger than the slope of qr.<br> \n",
    "By definition, less than half the pairs have slope larger than the median slope. Thus, in at least n/4 pairs, at least one point is not in L. Symmetrically, the subset R also contains at most 3n/4 points."
   ]
  },
  {
   "cell_type": "markdown",
   "metadata": {},
   "source": [
    "The running time is described by the two-variable recurrence <br>\n",
    "$$T(n, h) = O(n) + T(n_1, h_1) + T(n_2, h − h_1)$$"
   ]
  },
  {
   "cell_type": "markdown",
   "metadata": {},
   "source": [
    "where $n_1 + n_2 ≤ n$ and max {$ n_1, n_2$} ≤ $\\dfrac {3n}{4}$. Let’s assume that the O(n) term is at most *αn* for some\n",
    "constant α. The following inductive proof implies that T(n, h) ≤ βn lnh for some constant β."
   ]
  },
  {
   "cell_type": "markdown",
   "metadata": {},
   "source": [
    "T(n, h) ≤ αn + T(n1, h1) + T(n2, h − h1)<br><br>\n",
    "≤ αn + $ βn_1\\ln h_1 $ + $βn_2 \\ln (h − h_1) $ &emsp; &emsp; &emsp;[inductive hypothesis]<br><br>\n",
    "≤ αn +$ βn_1 \\ln h_1 + β(n − n_1)\\ln (h − h_1) $ &emsp; &emsp; &emsp;[$n_1 + n_2$ ≤ n]<br><br>\n",
    "≤ $αn + β  \\dfrac {3n}{4} \\ln h_1 + β \\dfrac {n}{4} \\ln (h − h_1)$ &emsp; &emsp; &emsp; [$n_1$ ≤ 3n/4]<br><br>\n",
    "≤ $αn + β \\dfrac {n}{4}(3\\ln h1 + \\ln (h − h1))$  &emsp; &emsp; &emsp;[algebra]<br><br>\n",
    "≤$ αn + β \\dfrac {n}{4}(max(3 \\ln x + \\ln (h − x)))$  &emsp; &emsp; &emsp;[algebra]<br><br>\n",
    "The function $3 \\ln x + \\ln (h − x)$ is maximized when its derivative is zero:<br>\n",
    "$\\dfrac {d}{d x} (3 \\ln x + \\ln (h − x)) = \\dfrac {3}{x}−\\dfrac {1}{h − x} = 0 ⇒ x =\\dfrac {3h}{4} $<br><br>\n",
    "T(n, h) ≤ αn + $β\\dfrac {n}{4} (3\\ln \\dfrac {3h}{4}+ \\ln \\dfrac {h}{4}) $<br><br>\n",
    "≤ $αn + βn \\ln h + βn( \\dfrac {3}{4}\\ln \\dfrac {3}{4}+ \\dfrac{1}{4}\\ln \\dfrac{1}{4})$<br><br>\n",
    "≤ $βn\\ln h + (α − 0.562336β)n.$<br><br>\n",
    "If we assume β ≥ 2α, the induction proof is complete.\n",
    "\n"
   ]
  },
  {
   "cell_type": "markdown",
   "metadata": {},
   "source": [
    "##  Efficiency comparison :\n",
    "Testing on various input of different sizes , following observations are made in terms of relative time consumptions by the algorithms.\n",
    "<a href=\"https://imgur.com/1sDUNwl\"><img src=\"https://i.imgur.com/1sDUNwl.png\" title=\"source: imgur.com\" /></a>***Note all the algorithms implemented and their individual analysis is available in separate notebook provided in github***"
   ]
  },
  {
   "cell_type": "markdown",
   "metadata": {},
   "source": [
    "## Application of convex hull : \n",
    "1. __Collision avoidance:__ If the convex hull of a car avoids collision with obstacles then so does the car. Since the computation of paths that avoid collision is much easier with a convex car, then it is often used to plan path.<br>\n",
    "2. __Smallest box:__ The smallest area rectangle that encloses a polygon has at least one side flush with the convex hull of the polygon, and so the hull is computed at the first step of minimum rectangle algorithms. Similarly, finding the smallest three-dimensional box surrounding an object depends on the 3D-convex hull.<br>\n",
    "3. __Shape analysis:__ Shapes may be classified for the purposes of matching by their \"convex deficiency trees\", structures that depend for their computation on convex hulls.<br>\n",
    "4. Other practical applications are __pattern recognition, image processing, statistics, geographic information system, game theory, construction of phase diagrams, and static code analysis by abstract interpretation.__\n",
    "\n"
   ]
  },
  {
   "cell_type": "markdown",
   "metadata": {},
   "source": [
    "### Code : \n",
    "all the code segments and respective test cases are available in following github repository<br>\n",
    "https://github.com/ishan16696/Convex_HULL"
   ]
  },
  {
   "cell_type": "markdown",
   "metadata": {},
   "source": [
    "##  References :\n",
    "1. http://jeffe.cs.illinois.edu/teaching/compgeom/notes/01-convexhull.pdf\n",
    "2. http://www.cs.uiuc.edu/~jeffe/teaching/373/notes/x05-convexhull.pdf\n",
    "3. https://en.wikipedia.org/wiki/Convex_hull_algorithms\n",
    "4. https://mcdtu.files.wordpress.com/2017/03/introduction-to-algorithms-3rd-edition-sep-2010.pdf\n",
    "5. https://brilliant.org/wiki/convex-hull/\n",
    "6. https://www.cs.auckland.ac.nz/software/AlgAnim/convex_hull.html"
   ]
  }
 ],
 "metadata": {
  "anaconda-cloud": {},
  "kernelspec": {
   "display_name": "Python [default]",
   "language": "python",
   "name": "python2"
  },
  "language_info": {
   "codemirror_mode": {
    "name": "ipython",
    "version": 2
   },
   "file_extension": ".py",
   "mimetype": "text/x-python",
   "name": "python",
   "nbconvert_exporter": "python",
   "pygments_lexer": "ipython2",
   "version": "2.7.12"
  }
 },
 "nbformat": 4,
 "nbformat_minor": 1
}
